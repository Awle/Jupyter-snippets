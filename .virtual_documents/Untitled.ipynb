


from IPython.display import Image 
import os

path = '/home/awle/Jupyter-snippets/Pictures/ml_map.png'

Image(f"{path}")





from IPython.display import Image 
import os

path = '/home/awle/Jupyter-snippets/Pictures/ml_map.png'

Image(f"{path}")


from IPython.display import Image 
import os

path = '/home/awle/Jupyter-snippets/Pictures/UnderTheHood.png'

Image(f"{path}")


def model_builder(hp):
    model = keras.Sequential()
    model.add(keras.layers.Flatten(input_dim=162))

    # Tune the number of units in the first Dense layer
    # Choose an optimal value between 32-512
    hp_units = hp.Int('units', min_value=75, max_value=300, step=15)
    hp_units2 = hp.Int('units2', min_value=50, max_value=150, step=10)
    hp_units3 = hp.Int('units3', min_value=5, max_value=50, step=5)
    hp_units4 = hp.Int('units4', min_value=1, max_value=10, step=1)
    model.add(keras.layers.Dense(units=hp_units, activation='relu'))
    model.add(keras.layers.Dense(units=hp_units2, activation='relu'))
    model.add(keras.layers.Dense(units=hp_units3, activation='relu'))
    model.add(keras.layers.Dense(units=hp_units4, activation='relu'))
    model.add(keras.layers.Dense(1, activation='linear'))

    hp_learning_rate = hp.Choice('learning_rate', values=[1e-2, 1e-3, 1e-4])

    model.compile(optimizer=keras.optimizers.Adam(learning_rate=hp_learning_rate),
                loss='msle',
                metrics=['msle'])

    return model

tuner = kt.Hyperband(model_builder,
                     objective='val_loss',
                     max_epochs=10,
                     factor=3,
                     overwrite=True,
                     directory='my_dir',
                     project_name='kt')

stop_early = tf.keras.callbacks.EarlyStopping(monitor='val_loss', patience=5)

tuner.search(X_train, y_train, epochs=50, validation_split=0.2, callbacks=[stop_early])
best_hps = tuner.get_best_hyperparameters(num_trials=1)[0]

best_hps.values

model = tuner.hypermodel.build(best_hps)
history = model.fit(X_train, y_train, epochs=50, validation_split=0.2)

eval_result = model.evaluate(X_val, y_val)[1]
eval_result



